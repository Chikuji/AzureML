{
  "nbformat": 4,
  "nbformat_minor": 0,
  "metadata": {
    "colab": {
      "name": "2020-09-22-03-TrabalharComDadosAML.ipynb",
      "provenance": [],
      "authorship_tag": "ABX9TyMGGUPq4MDLRIakjWdmvUPz",
      "include_colab_link": true
    },
    "kernelspec": {
      "name": "python3",
      "display_name": "Python 3"
    }
  },
  "cells": [
    {
      "cell_type": "markdown",
      "metadata": {
        "id": "view-in-github",
        "colab_type": "text"
      },
      "source": [
        "<a href=\"https://colab.research.google.com/github/Chikuji/AzureML/blob/master/2020_09_22_03_TrabalharComDadosAML.ipynb\" target=\"_parent\"><img src=\"https://colab.research.google.com/assets/colab-badge.svg\" alt=\"Open In Colab\"/></a>"
      ]
    },
    {
      "cell_type": "markdown",
      "metadata": {
        "id": "qubXA_Jiz1CU",
        "colab_type": "text"
      },
      "source": [
        "# Objetivos de aprendizado\n",
        "\n",
        "- Crie e use datastores em um espaço de trabalho do Azure Machine Learning.\n",
        "-Crie e use conjuntos de dados em um espaço de trabalho do Azure Machine Learning.\n",
        "\n"
      ]
    },
    {
      "cell_type": "markdown",
      "metadata": {
        "id": "PTeejnsd0Yv0",
        "colab_type": "text"
      },
      "source": [
        "Tipos de armazenamento de dados\n",
        "\n",
        "- Armazenamento do Azure (blob e contêineres de arquivo)\n",
        "-Armazenamento Azure Data Lake\n",
        "-Banco de dados SQL do Azure\n",
        "-Sistema de arquivos do Azure Databricks (DBFS)\n"
      ]
    },
    {
      "cell_type": "markdown",
      "metadata": {
        "id": "2UIWjpjk0epf",
        "colab_type": "text"
      },
      "source": [
        "# Registrando um armazenamento de dados"
      ]
    },
    {
      "cell_type": "markdown",
      "metadata": {
        "id": "KFrzqGSB_16d",
        "colab_type": "text"
      },
      "source": [
        "Você pode registrá-lo usando a interface gráfica no Azure Machine Learning Studio ou pode usar o SDK do Azure Machine Learning"
      ]
    },
    {
      "cell_type": "code",
      "metadata": {
        "id": "GbrpjWm_wUTa",
        "colab_type": "code",
        "colab": {}
      },
      "source": [
        "from azureml.core import Workspace, Datastore\n",
        "\n",
        "ws = Workspace.from_config()\n",
        "\n",
        "# Register a new datastore\n",
        "blob_ds = Datastore.register_azure_blob_container(workspace=ws,\n",
        "    datastore_name='blob_data',\n",
        "    container_name='data_container',\n",
        "    account_name='az_store_acct',\n",
        "    account_key='123456abcde789…')"
      ],
      "execution_count": null,
      "outputs": []
    },
    {
      "cell_type": "markdown",
      "metadata": {
        "id": "TDjA8cuT1Um2",
        "colab_type": "text"
      },
      "source": [
        "Gerenciando datastores"
      ]
    },
    {
      "cell_type": "code",
      "metadata": {
        "id": "m6-fnIXh1VmB",
        "colab_type": "code",
        "colab": {}
      },
      "source": [
        "# lista os nomes de cada armazenamento de dados no espaço de trabalho.\n",
        "for ds_name in ws.datastores:\n",
        "    print(ds_name)"
      ],
      "execution_count": null,
      "outputs": []
    },
    {
      "cell_type": "code",
      "metadata": {
        "id": "tKFbjipM1Xl_",
        "colab_type": "code",
        "colab": {}
      },
      "source": [
        "# Você pode obter uma referência para qualquer armazenamento de dados usando o método Datastore.get ()\n",
        "blob_store = Datastore.get(ws, datastore_name='blob_data')"
      ],
      "execution_count": null,
      "outputs": []
    },
    {
      "cell_type": "code",
      "metadata": {
        "id": "_0qmKPV51d1N",
        "colab_type": "code",
        "colab": {}
      },
      "source": [
        "# Você pode recuperar usando o método get_default_datastore () de um objeto Workspace\n",
        "default_store = ws.get_default_datastore()"
      ],
      "execution_count": null,
      "outputs": []
    },
    {
      "cell_type": "code",
      "metadata": {
        "id": "gup6SjQSAULn",
        "colab_type": "code",
        "colab": {}
      },
      "source": [
        "# Para alterar o armazenamento de dados padrão, use o método set_default_datastore ()\n",
        "ws.set_default_datastore('blob_data')"
      ],
      "execution_count": null,
      "outputs": []
    },
    {
      "cell_type": "markdown",
      "metadata": {
        "id": "rbCL5E7eFj3I",
        "colab_type": "text"
      },
      "source": [
        "# Trabalhando diretamente com um armazenamento de dados"
      ]
    },
    {
      "cell_type": "code",
      "metadata": {
        "id": "FKiJnZ3hFlFu",
        "colab_type": "code",
        "colab": {}
      },
      "source": [
        "blob_ds.upload(src_dir='/files',\n",
        "               target_path='/data/files',\n",
        "               overwrite=True, show_progress=True)\n",
        "\n",
        "blob_ds.download(target_path='downloads',\n",
        "                 prefix='/data',\n",
        "                 show_progress=True)"
      ],
      "execution_count": null,
      "outputs": []
    },
    {
      "cell_type": "markdown",
      "metadata": {
        "id": "p9D976UPF5Pp",
        "colab_type": "text"
      },
      "source": [
        "Usando referências de dados\n",
        "\n",
        "- Download : o conteúdo do caminho associado à referência de dados é baixado para o contexto de computação onde o experimento está sendo executado.\n",
        "-Upload : os arquivos gerados por seu script de experimento são enviados para o armazenamento de dados após a conclusão da execução.\n",
        "-Montagem : o caminho no armazenamento de dados é montado como armazenamento remoto no contexto de computação do experimento, permitindo que o conteúdo seja acessado remotamente (observe que este modo está disponível apenas quando o experimento é executado em um destino de computação remoto - você não pode usar este modo com computação local).\n"
      ]
    },
    {
      "cell_type": "markdown",
      "metadata": {
        "id": "TQfsXr6TJnnW",
        "colab_type": "text"
      },
      "source": [
        "Para passar a referência de dados para um script de experimento, você deve definir um parâmetro de script conforme mostrado aqui:"
      ]
    },
    {
      "cell_type": "code",
      "metadata": {
        "id": "qGCGu5MCGAN1",
        "colab_type": "code",
        "colab": {}
      },
      "source": [
        "data_ref = blob_ds.path('data/files').as_download(path_on_compute='training_data')\n",
        "estimator = SKLearn(source_directory='experiment_folder',\n",
        "                    entry_script='training_script.py'\n",
        "                    compute_target='local',\n",
        "                    script_params = {'--data_folder': data_ref})\n",
        "\n"
      ],
      "execution_count": null,
      "outputs": []
    },
    {
      "cell_type": "markdown",
      "metadata": {
        "id": "BDZbvm_xJqDw",
        "colab_type": "text"
      },
      "source": [
        "Em seu script de treinamento, você pode recuperar o parâmetro e usá-lo como uma pasta local:"
      ]
    },
    {
      "cell_type": "code",
      "metadata": {
        "id": "T_rRrbHaJraU",
        "colab_type": "code",
        "colab": {}
      },
      "source": [
        "import os\n",
        "import argparse\n",
        "\n",
        "parser = argparse.ArgumentParser()\n",
        "parser.add_argument('--data_folder', type=str, dest='data_folder')\n",
        "args = parser.parse_args()\n",
        "data_files = os.listdir(args.data_folder)"
      ],
      "execution_count": null,
      "outputs": []
    },
    {
      "cell_type": "markdown",
      "metadata": {
        "id": "CDVHgE-fK_vh",
        "colab_type": "text"
      },
      "source": [
        "# Introdução aos conjuntos de dados"
      ]
    },
    {
      "cell_type": "markdown",
      "metadata": {
        "id": "F2tb26RkLCA7",
        "colab_type": "text"
      },
      "source": [
        "Criação e registro de conjuntos de dados tabulares"
      ]
    },
    {
      "cell_type": "code",
      "metadata": {
        "id": "68HS56QgLBpQ",
        "colab_type": "code",
        "colab": {}
      },
      "source": [
        "from azureml.core import Dataset\n",
        "\n",
        "blob_ds = ws.get_default_datastore()\n",
        "csv_paths = [(blob_ds, 'data/files/current_data.csv'),\n",
        "             (blob_ds, 'data/files/archive/*.csv')]\n",
        "tab_ds = Dataset.Tabular.from_delimited_files(path=csv_paths)\n",
        "tab_ds = tab_ds.register(workspace=ws, name='csv_table')"
      ],
      "execution_count": null,
      "outputs": []
    },
    {
      "cell_type": "markdown",
      "metadata": {
        "id": "LLkyKHQELvr4",
        "colab_type": "text"
      },
      "source": [
        "Criação e registro de conjuntos de dados de arquivo"
      ]
    },
    {
      "cell_type": "code",
      "metadata": {
        "id": "pBlufcsWLxg2",
        "colab_type": "code",
        "colab": {}
      },
      "source": [
        "from azureml.core import Dataset\n",
        "\n",
        "blob_ds = ws.get_default_datastore()\n",
        "file_ds = Dataset.File.from_files(path=(blob_ds, 'data/files/images/*.jpg'))\n",
        "file_ds = file_ds.register(workspace=ws, name='img_files')"
      ],
      "execution_count": null,
      "outputs": []
    },
    {
      "cell_type": "markdown",
      "metadata": {
        "id": "-NT6tKY0MCNx",
        "colab_type": "text"
      },
      "source": [
        "Recuperando um conjunto de dados registrado"
      ]
    },
    {
      "cell_type": "code",
      "metadata": {
        "id": "mu-gNzUVMDwd",
        "colab_type": "code",
        "colab": {}
      },
      "source": [
        "import azureml.core\n",
        "from azureml.core import Workspace, Dataset\n",
        "\n",
        "# Load the workspace from the saved config file\n",
        "ws = Workspace.from_config()\n",
        "\n",
        "# Get a dataset from the workspace datasets collection\n",
        "ds1 = ws.datasets['csv_table']\n",
        "\n",
        "# Get a dataset by name from the datasets class\n",
        "ds2 = Dataset.get_by_name(ws, 'img_files')"
      ],
      "execution_count": null,
      "outputs": []
    },
    {
      "cell_type": "markdown",
      "metadata": {
        "id": "CkHg3-7xMrK-",
        "colab_type": "text"
      },
      "source": [
        "Controle de versão do conjunto de dados"
      ]
    },
    {
      "cell_type": "code",
      "metadata": {
        "id": "23pWmcIaMq4_",
        "colab_type": "code",
        "colab": {}
      },
      "source": [
        "img_paths = [(blob_ds, 'data/files/images/*.jpg'),\n",
        "             (blob_ds, 'data/files/images/*.png')]\n",
        "file_ds = Dataset.File.from_files(path=img_paths)\n",
        "file_ds = file_ds.register(workspace=ws, name='img_files', create_new_version=True)"
      ],
      "execution_count": null,
      "outputs": []
    },
    {
      "cell_type": "markdown",
      "metadata": {
        "id": "vBTwLV-fMub9",
        "colab_type": "text"
      },
      "source": [
        "Recuperando uma versão específica do conjunto de dados"
      ]
    },
    {
      "cell_type": "code",
      "metadata": {
        "id": "Pb3oozyiMwCB",
        "colab_type": "code",
        "colab": {}
      },
      "source": [
        "img_ds = Dataset.get_by_name(workspace=ws, name='img_files', version=2)"
      ],
      "execution_count": null,
      "outputs": []
    },
    {
      "cell_type": "markdown",
      "metadata": {
        "id": "Kgdx5bAmNcHi",
        "colab_type": "text"
      },
      "source": [
        "# Use conjuntos de dados"
      ]
    },
    {
      "cell_type": "markdown",
      "metadata": {
        "id": "1mg_sdwLOFPd",
        "colab_type": "text"
      },
      "source": [
        "Trabalhar com um conjunto de dados diretamente"
      ]
    },
    {
      "cell_type": "code",
      "metadata": {
        "id": "kjAkOMVoOH_n",
        "colab_type": "code",
        "colab": {}
      },
      "source": [
        "df = tab_ds.to_pandas_dataframe()\n",
        "# code to work with dataframe goes here"
      ],
      "execution_count": null,
      "outputs": []
    },
    {
      "cell_type": "code",
      "metadata": {
        "id": "ga9PZC8BOKI7",
        "colab_type": "code",
        "colab": {}
      },
      "source": [
        "for file_path in file_ds.to_path():\n",
        "    print(file_path)\n",
        "# método to_path () para retornar uma lista dos caminhos de arquivo encapsulados pelo conjunto de dados\n"
      ],
      "execution_count": null,
      "outputs": []
    },
    {
      "cell_type": "markdown",
      "metadata": {
        "id": "iSSHkiSxORkl",
        "colab_type": "text"
      },
      "source": [
        "Passar um conjunto de dados para um script de experimento"
      ]
    },
    {
      "cell_type": "code",
      "metadata": {
        "id": "BiUmWkI7OSG3",
        "colab_type": "code",
        "colab": {}
      },
      "source": [
        "estimator = SKLearn( source_directory='experiment_folder',\n",
        "                     entry_script='training_script.py',\n",
        "                     compute_target='local',\n",
        "                     inputs=[tab_ds.as_named_input('csv_data')],\n",
        "                     pip_packages=['azureml-dataprep[pandas]')"
      ],
      "execution_count": null,
      "outputs": []
    },
    {
      "cell_type": "markdown",
      "metadata": {
        "id": "Zh0cuSjdOa9u",
        "colab_type": "text"
      },
      "source": [
        "Como o script precisará trabalhar com um objeto Dataset , você deve incluir o pacote azureml-sdk completo ou o pacote azureml-dataprep com a biblioteca extra pandas no ambiente de computação do script.\n",
        "\n",
        "No próprio script do experimento, você pode acessar a entrada e trabalhar com o objeto Dataset ao qual ele faz referência, assim:"
      ]
    },
    {
      "cell_type": "code",
      "metadata": {
        "id": "Ztd9LzHmOb40",
        "colab_type": "code",
        "colab": {}
      },
      "source": [
        "run = Run.get_context()\n",
        "data = run.input_datasets['csv_data'].to_pandas_dataframe()"
      ],
      "execution_count": null,
      "outputs": []
    },
    {
      "cell_type": "markdown",
      "metadata": {
        "id": "zMqtOeLqOiJm",
        "colab_type": "text"
      },
      "source": [
        "Ao passar um conjunto de dados de arquivo, você deve especificar o modo de acesso. Por exemplo:"
      ]
    },
    {
      "cell_type": "code",
      "metadata": {
        "id": "3xA0WPGuOiy3",
        "colab_type": "code",
        "colab": {}
      },
      "source": [
        "estimator = Estimator( source_directory='experiment_folder',\n",
        "                     entry_script='training_script.py'\n",
        "                     compute_target='local',\n",
        "                     inputs=[img_ds.as_named_input('img_data').as_download(path_on_compute='data')],\n",
        "                     pip_packages=['azureml-dataprep[pandas]')"
      ],
      "execution_count": null,
      "outputs": []
    }
  ]
}