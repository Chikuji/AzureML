{
  "nbformat": 4,
  "nbformat_minor": 0,
  "metadata": {
    "colab": {
      "name": "2020-09-22-02-TreinarModeloML.ipynb",
      "provenance": [],
      "authorship_tag": "ABX9TyMi3M24s6pIoELyAtH0tsfQ",
      "include_colab_link": true
    },
    "kernelspec": {
      "name": "python3",
      "display_name": "Python 3"
    }
  },
  "cells": [
    {
      "cell_type": "markdown",
      "metadata": {
        "id": "view-in-github",
        "colab_type": "text"
      },
      "source": [
        "<a href=\"https://colab.research.google.com/github/Chikuji/AzureML/blob/master/2020_09_22_02_TreinarModeloML.ipynb\" target=\"_parent\"><img src=\"https://colab.research.google.com/assets/colab-badge.svg\" alt=\"Open In Colab\"/></a>"
      ]
    },
    {
      "cell_type": "markdown",
      "metadata": {
        "id": "L7nKNSNMqTuK",
        "colab_type": "text"
      },
      "source": [
        "# Objetivos de aprendizagem\n",
        "\n",
        "- Usar um Estimador para executar um script de treinamento de modelo como um experimento do Azure Machine Learning.\n",
        "-Criar scripts de treinamento reutilizáveis e parametrizados.\n",
        "-Registrar modelos, incluindo metadados, como métricas de desempenho.\n",
        "\n",
        "Considerar:\n",
        "\n",
        "- Criação de scripts de treinamento reutilizáveis para vários ambientes de computação.\n",
        "-Log de métricas de desempenho de modelo durante processos de treinamento e avaliação.\n",
        "-Controle de versões do modelo.\n"
      ]
    },
    {
      "cell_type": "markdown",
      "metadata": {
        "id": "Bm9E-Znpr_s1",
        "colab_type": "text"
      },
      "source": [
        "# Como escrever um script para treinar um modelo"
      ]
    },
    {
      "cell_type": "code",
      "metadata": {
        "id": "4rDZj16gpFrW",
        "colab_type": "code",
        "colab": {}
      },
      "source": [
        "from azureml.core import Run\n",
        "import pandas as pd\n",
        "import numpy as np\n",
        "import joblib\n",
        "from sklearn.model_selection import train_test_split\n",
        "from sklearn.linear_model import LogisticRegression\n",
        "\n",
        "# Get the experiment run context\n",
        "run = Run.get_context()\n",
        "\n",
        "# Prepare the dataset\n",
        "diabetes = pd.read_csv('data.csv')\n",
        "X, y = data[['Feature1','Feature2','Feature3']].values, data['Label'].values\n",
        "X_train, X_test, y_train, y_test = train_test_split(X, y, test_size=0.30)\n",
        "\n",
        "# Train a logistic regression model\n",
        "reg = 0.1\n",
        "model = LogisticRegression(C=1/reg, solver=\"liblinear\").fit(X_train, y_train)\n",
        "\n",
        "# calculate accuracy\n",
        "y_hat = model.predict(X_test)\n",
        "acc = np.average(y_hat == y_test)\n",
        "run.log('Accuracy', np.float(acc))\n",
        "\n",
        "# Save the trained model\n",
        "os.makedirs('outputs', exist_ok=True)\n",
        "joblib.dump(value=model, filename='outputs/model.pkl')\n",
        "\n",
        "run.complete()"
      ],
      "execution_count": null,
      "outputs": []
    },
    {
      "cell_type": "markdown",
      "metadata": {
        "id": "zavSrNL_sCeU",
        "colab_type": "text"
      },
      "source": [
        "Como usar um estimador"
      ]
    },
    {
      "cell_type": "code",
      "metadata": {
        "id": "gki5Fhx-sFPi",
        "colab_type": "code",
        "colab": {}
      },
      "source": [
        "from azureml.train.estimator import Estimator\n",
        "from azureml.core import Experiment\n",
        "\n",
        "# Create an estimator\n",
        "estimator = Estimator(source_directory='experiment_folder',\n",
        "                      entry_script='training_script.py',\n",
        "                      compute_target='local',\n",
        "                      conda_packages=['scikit-learn']\n",
        "                      )\n",
        "\n",
        "# Create and run an experiment\n",
        "experiment = Experiment(workspace = ws, name = 'training_experiment')\n",
        "run = experiment.submit(config=estimator)"
      ],
      "execution_count": null,
      "outputs": []
    },
    {
      "cell_type": "markdown",
      "metadata": {
        "id": "VpiTeGP0svsp",
        "colab_type": "text"
      },
      "source": [
        "Estimadores específicos da estrutura SDK do Azure ML"
      ]
    },
    {
      "cell_type": "code",
      "metadata": {
        "id": "UqbRd-p4sywy",
        "colab_type": "code",
        "colab": {}
      },
      "source": [
        "from azureml.train.sklearn import SKLearn\n",
        "from azureml.core import Experiment\n",
        "\n",
        "# Create an estimator\n",
        "estimator = SKLearn(source_directory='experiment_folder',\n",
        "                    entry_script='training_script.py'\n",
        "                    compute_target='local'\n",
        "                    )\n",
        "\n",
        "# Create and run an experiment\n",
        "experiment = Experiment(workspace = ws, name = 'training_experiment')\n",
        "run = experiment.submit(config=estimator)"
      ],
      "execution_count": null,
      "outputs": []
    },
    {
      "cell_type": "markdown",
      "metadata": {
        "id": "EKyZXDtAtdXG",
        "colab_type": "text"
      },
      "source": [
        "Como trabalhar com argumentos de script\n",
        "\n",
        "Para usar parâmetros em um script, você precisará usar uma biblioteca como argparse para ler os argumentos transmitidos para o script e atribuí-los a variáveis"
      ]
    },
    {
      "cell_type": "code",
      "metadata": {
        "id": "xwFNqs1CthyT",
        "colab_type": "code",
        "colab": {}
      },
      "source": [
        "from azureml.core import Run\n",
        "import argparse\n",
        "import pandas as pd\n",
        "import numpy as np\n",
        "import joblib\n",
        "from sklearn.model_selection import train_test_split\n",
        "from sklearn.linear_model import LogisticRegression\n",
        "\n",
        "# Get the experiment run context\n",
        "run = Run.get_context()\n",
        "\n",
        "# Set regularization hyperparameter\n",
        "parser = argparse.ArgumentParser()\n",
        "parser.add_argument('--reg_rate', type=float, dest='reg', default=0.01)\n",
        "args = parser.parse_args()\n",
        "reg = args.reg\n",
        "\n",
        "# Prepare the dataset\n",
        "diabetes = pd.read_csv('data.csv')\n",
        "X, y = data[['Feature1','Feature2','Feature3']].values, data['Label'].values\n",
        "X_train, X_test, y_train, y_test = train_test_split(X, y, test_size=0.30)\n",
        "\n",
        "# Train a logistic regression model\n",
        "model = LogisticRegression(C=1/reg, solver=\"liblinear\").fit(X_train, y_train)\n",
        "\n",
        "# calculate accuracy\n",
        "y_hat = model.predict(X_test)\n",
        "acc = np.average(y_hat == y_test)\n",
        "run.log('Accuracy', np.float(acc))\n",
        "\n",
        "# Save the trained model\n",
        "os.makedirs('outputs', exist_ok=True)\n",
        "joblib.dump(value=model, filename='outputs/model.pkl')\n",
        "\n",
        "run.complete()"
      ],
      "execution_count": null,
      "outputs": []
    },
    {
      "cell_type": "markdown",
      "metadata": {
        "id": "Xv9hD0h7tuuZ",
        "colab_type": "text"
      },
      "source": [
        "Como transmitir argumentos de script para um estimador"
      ]
    },
    {
      "cell_type": "code",
      "metadata": {
        "id": "f8wX_Jkwtxc-",
        "colab_type": "code",
        "colab": {}
      },
      "source": [
        "from azureml.train.sklearn import SKLearn\n",
        "from azureml.core import Experiment\n",
        "\n",
        "# Create an estimator\n",
        "estimator = SKLearn(source_directory='experiment_folder',\n",
        "                    entry_script='training_script.py',\n",
        "                    script_params = {'--reg_rate': 0.1},\n",
        "                    compute_target='local'\n",
        "                    )\n",
        "\n",
        "# Create and run an experiment\n",
        "experiment = Experiment(workspace = ws, name = 'training_experiment')\n",
        "run = experiment.submit(config=estimator)"
      ],
      "execution_count": null,
      "outputs": []
    },
    {
      "cell_type": "markdown",
      "metadata": {
        "id": "7k7VLGsZuhZ7",
        "colab_type": "text"
      },
      "source": [
        "Como recuperar arquivos de modelo"
      ]
    },
    {
      "cell_type": "code",
      "metadata": {
        "id": "ir3RioYAujz_",
        "colab_type": "code",
        "colab": {}
      },
      "source": [
        "# \"run\" is a reference to a completed experiment run\n",
        "\n",
        "# List the files generated by the experiment\n",
        "for file in run.get_file_names():\n",
        "    print(file)\n",
        "\n",
        "# Download a named file\n",
        "run.download_file(name='outputs/model.pkl', output_file_path='model.pkl')"
      ],
      "execution_count": null,
      "outputs": []
    },
    {
      "cell_type": "markdown",
      "metadata": {
        "id": "zVYjn9ObvV8l",
        "colab_type": "text"
      },
      "source": [
        "Como registrar um modelo"
      ]
    },
    {
      "cell_type": "markdown",
      "metadata": {
        "id": "B0uhG_ELvcgq",
        "colab_type": "text"
      },
      "source": [
        "Para registrar um modelo por meio de um arquivo local, use o método register do objeto Model, conforme mostrado aqui:"
      ]
    },
    {
      "cell_type": "code",
      "metadata": {
        "id": "KI2LV06jvd7L",
        "colab_type": "code",
        "colab": {}
      },
      "source": [
        "from azureml.core import Model\n",
        "\n",
        "model = Model.register(workspace=ws,\n",
        "                       model_name='classification_model',\n",
        "                       model_path='model.pkl', # local path\n",
        "                       description='A classification model',\n",
        "                       tags={'dept': 'sales'},\n",
        "                       model_framework=Model.Framework.SCIKITLEARN,\n",
        "                       model_framework_version='0.20.3')"
      ],
      "execution_count": null,
      "outputs": []
    },
    {
      "cell_type": "markdown",
      "metadata": {
        "id": "ddoSKSC3vfxn",
        "colab_type": "text"
      },
      "source": [
        "Como alternativa, se você tiver uma referência ao Run usado para treinar o modelo, use o método register_model, conforme mostrado aqui:"
      ]
    },
    {
      "cell_type": "code",
      "metadata": {
        "id": "Gj6mZ1b0vhQi",
        "colab_type": "code",
        "colab": {}
      },
      "source": [
        "run.register_model( model_name='classification_model',\n",
        "                    model_path='outputs/model.pkl', # run outputs path\n",
        "                    description='A classification model',\n",
        "                    tags={'dept': 'sales'},\n",
        "                    model_framework=Model.Framework.SCIKITLEARN,\n",
        "                    model_framework_version='0.20.3')"
      ],
      "execution_count": null,
      "outputs": []
    },
    {
      "cell_type": "markdown",
      "metadata": {
        "id": "h50fnYfXvoX4",
        "colab_type": "text"
      },
      "source": [
        "Como ver os modelos registrados"
      ]
    },
    {
      "cell_type": "code",
      "metadata": {
        "id": "8qzzwd7OvpmP",
        "colab_type": "code",
        "colab": {}
      },
      "source": [
        "from azureml.core import Model\n",
        "\n",
        "for model in Model.list(ws):\n",
        "    # Get model name and auto-generated version\n",
        "    print(model.name, 'version:', model.version)"
      ],
      "execution_count": null,
      "outputs": []
    }
  ]
}