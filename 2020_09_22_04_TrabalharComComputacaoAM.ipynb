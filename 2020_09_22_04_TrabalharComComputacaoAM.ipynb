{
  "nbformat": 4,
  "nbformat_minor": 0,
  "metadata": {
    "colab": {
      "name": "2020-09-22-04-TrabalharComComputacaoAM.ipynb",
      "provenance": [],
      "authorship_tag": "ABX9TyM7GGnxA2cTP0BKNR4ySLmt",
      "include_colab_link": true
    },
    "kernelspec": {
      "name": "python3",
      "display_name": "Python 3"
    }
  },
  "cells": [
    {
      "cell_type": "markdown",
      "metadata": {
        "id": "view-in-github",
        "colab_type": "text"
      },
      "source": [
        "<a href=\"https://colab.research.google.com/github/Chikuji/AzureML/blob/master/2020_09_22_04_TrabalharComComputacaoAM.ipynb\" target=\"_parent\"><img src=\"https://colab.research.google.com/assets/colab-badge.svg\" alt=\"Open In Colab\"/></a>"
      ]
    },
    {
      "cell_type": "markdown",
      "metadata": {
        "id": "h4ANBsXnR4A0",
        "colab_type": "text"
      },
      "source": [
        "# Objetivos de aprendizado\n",
        "\n",
        "- Trabalhe com ambientes\n",
        "-Trabalho com alvos de computação"
      ]
    },
    {
      "cell_type": "markdown",
      "metadata": {
        "id": "NPZq3NQmT-4F",
        "colab_type": "text"
      },
      "source": [
        "# Criação de ambientes"
      ]
    },
    {
      "cell_type": "markdown",
      "metadata": {
        "id": "tcKsrWNrTAQ3",
        "colab_type": "text"
      },
      "source": [
        "Criação de um ambiente a partir de um arquivo de especificação.\n",
        "\n",
        "Você pode usar um arquivo de especificação Conda ou pip para definir os pacotes necessários em um ambiente Python e usá-lo para criar um objeto Environment .\n",
        "\n",
        "Por exemplo, você pode salvar as seguintes configurações do Conda em um arquivo denominado conda.yml"
      ]
    },
    {
      "cell_type": "code",
      "metadata": {
        "id": "k249aYp3Q6ro",
        "colab_type": "code",
        "colab": {}
      },
      "source": [
        "name: py_env\n",
        "dependencies:\n",
        "  - numpy\n",
        "  - pandas\n",
        "  - scikit-learn\n",
        "  - pip:\n",
        "    - azureml-defaults"
      ],
      "execution_count": null,
      "outputs": []
    },
    {
      "cell_type": "markdown",
      "metadata": {
        "id": "l4xIsIBMTc7w",
        "colab_type": "text"
      },
      "source": [
        "Em seguida, você pode usar o seguinte código para criar um ambiente do Azure Machine Learning a partir do arquivo de especificação salvo:"
      ]
    },
    {
      "cell_type": "code",
      "metadata": {
        "id": "vD_WKaUkTelo",
        "colab_type": "code",
        "colab": {}
      },
      "source": [
        "from azureml.core import Environment\n",
        "\n",
        "env = Environment.from_conda_specification(name='training_environment',\n",
        "                                           file_path='./conda.yml')"
      ],
      "execution_count": null,
      "outputs": []
    },
    {
      "cell_type": "markdown",
      "metadata": {
        "id": "Dknw5PDwTgZg",
        "colab_type": "text"
      },
      "source": [
        "Criação de um ambiente a partir de um ambiente Conda existente"
      ]
    },
    {
      "cell_type": "code",
      "metadata": {
        "id": "w-5NfWyXThsj",
        "colab_type": "code",
        "colab": {}
      },
      "source": [
        "from azureml.core import Environment\n",
        "\n",
        "env = Environment.from_existing_conda_environment(name='training_environment',\n",
        "                                                  conda_environment_name='py_env')"
      ],
      "execution_count": null,
      "outputs": []
    },
    {
      "cell_type": "markdown",
      "metadata": {
        "id": "fJPVvXGwTsT0",
        "colab_type": "text"
      },
      "source": [
        "Criação de um ambiente especificando pacotes"
      ]
    },
    {
      "cell_type": "code",
      "metadata": {
        "id": "I1AuVsFJTvCP",
        "colab_type": "code",
        "colab": {}
      },
      "source": [
        "from azureml.core import Environment\n",
        "from azureml.core.conda_dependencies import CondaDependencies\n",
        "\n",
        "env = Environment('training_environment')\n",
        "deps = CondaDependencies.create(conda_packages=['scikit-learn','pandas','numpy'],\n",
        "                                pip_packages=['azureml-defaults'])\n",
        "env.python.conda_dependencies = deps"
      ],
      "execution_count": null,
      "outputs": []
    },
    {
      "cell_type": "markdown",
      "metadata": {
        "id": "sV_XcSBtT_zp",
        "colab_type": "text"
      },
      "source": [
        "# Registrando e reutilizando ambientes"
      ]
    },
    {
      "cell_type": "markdown",
      "metadata": {
        "id": "7DArKjy5UEiR",
        "colab_type": "text"
      },
      "source": [
        "Registrando um ambiente"
      ]
    },
    {
      "cell_type": "code",
      "metadata": {
        "id": "6sSmhz6hUF5Y",
        "colab_type": "code",
        "colab": {}
      },
      "source": [
        "env.register(workspace=ws)"
      ],
      "execution_count": null,
      "outputs": []
    },
    {
      "cell_type": "markdown",
      "metadata": {
        "id": "h_JLVpU0UI7P",
        "colab_type": "text"
      },
      "source": [
        "Você pode visualizar os ambientes registrados em seu espaço de trabalho assim:"
      ]
    },
    {
      "cell_type": "code",
      "metadata": {
        "id": "XyoyghvDUJ8n",
        "colab_type": "code",
        "colab": {}
      },
      "source": [
        "from azureml.core import Environment\n",
        "\n",
        "env_names = Environment.list(workspace=ws)\n",
        "for env_name in env_names:\n",
        "    print('Name:',env_name)"
      ],
      "execution_count": null,
      "outputs": []
    },
    {
      "cell_type": "markdown",
      "metadata": {
        "id": "KLAjD0DjUMe9",
        "colab_type": "text"
      },
      "source": [
        "Recuperando e usando um ambiente"
      ]
    },
    {
      "cell_type": "code",
      "metadata": {
        "id": "niOZYjMuUNDN",
        "colab_type": "code",
        "colab": {}
      },
      "source": [
        "from azureml.core import Environment\n",
        "from azureml.train.estimator import Estimator\n",
        "\n",
        "training_env = Environment.get(workspace=ws, name='training_environment')\n",
        "estimator = Estimator(source_directory='experiment_folder'\n",
        "                      entry_script='training_script.py',\n",
        "                      compute_target='local',\n",
        "                      environment_definition=training_env)"
      ],
      "execution_count": null,
      "outputs": []
    },
    {
      "cell_type": "markdown",
      "metadata": {
        "id": "CQiFLTMLkmby",
        "colab_type": "text"
      },
      "source": [
        "# Introdução aos alvos computacionais"
      ]
    },
    {
      "cell_type": "markdown",
      "metadata": {
        "id": "HG9M8CjElGeY",
        "colab_type": "text"
      },
      "source": [
        "No Azure Machine Learning, você pode aproveitar esse princípio definindo destinos de computação que:\n",
        "\n",
        "- Inicie sob demanda e pare automaticamente quando não for mais necessário.\n",
        "-Escale automaticamente com base nas necessidades de processamento da carga de trabalho."
      ]
    },
    {
      "cell_type": "markdown",
      "metadata": {
        "id": "2RQhvblimMke",
        "colab_type": "text"
      },
      "source": [
        "# Tipos de computação"
      ]
    },
    {
      "cell_type": "markdown",
      "metadata": {
        "id": "LPXRAkKTmOUz",
        "colab_type": "text"
      },
      "source": [
        "Computação local"
      ]
    },
    {
      "cell_type": "markdown",
      "metadata": {
        "id": "jiUMO31fmO4i",
        "colab_type": "text"
      },
      "source": [
        "Clusters de computação"
      ]
    },
    {
      "cell_type": "markdown",
      "metadata": {
        "id": "IbPE2KBgmQaa",
        "colab_type": "text"
      },
      "source": [
        "Clusters de inferência"
      ]
    },
    {
      "cell_type": "markdown",
      "metadata": {
        "id": "qXGkgzmMmSTv",
        "colab_type": "text"
      },
      "source": [
        "Computação anexada"
      ]
    },
    {
      "cell_type": "markdown",
      "metadata": {
        "id": "MCh_tf2lnGFR",
        "colab_type": "text"
      },
      "source": [
        "# Criação de um destino de computação gerenciado com o SDK"
      ]
    },
    {
      "cell_type": "markdown",
      "metadata": {
        "id": "oDAcWC49nIVT",
        "colab_type": "text"
      },
      "source": [
        "Para criar um cluster de computação do Azure Machine Learning, use a classe azureml.core.compute.ComputeTarget e a classe AmlCompute , como este:"
      ]
    },
    {
      "cell_type": "code",
      "metadata": {
        "id": "RwW93SKhknuc",
        "colab_type": "code",
        "colab": {}
      },
      "source": [
        "from azureml.core import Workspace\n",
        "from azureml.core.compute import ComputeTarget, AmlCompute\n",
        "\n",
        "# Load the workspace from the saved config file\n",
        "ws = Workspace.from_config()\n",
        "\n",
        "# Specify a name for the compute (unique within the workspace)\n",
        "compute_name = 'aml-cluster'\n",
        "\n",
        "# Define compute configuration\n",
        "compute_config = AmlCompute.provisioning_configuration(vm_size='STANDARD_DS12_V2',\n",
        "                                                       min_nodes=0, max_nodes=4,\n",
        "                                                       vm_priority='dedicated')\n",
        "\n",
        "# Create the compute\n",
        "aml_cluster = ComputeTarget.create(ws, compute_name, compute_config)\n",
        "aml_cluster.wait_for_completion(show_output=True)"
      ],
      "execution_count": null,
      "outputs": []
    },
    {
      "cell_type": "markdown",
      "metadata": {
        "id": "d_TIKIMJoqcL",
        "colab_type": "text"
      },
      "source": [
        "# Anexar um destino de computação não gerenciado com o SDK"
      ]
    },
    {
      "cell_type": "code",
      "metadata": {
        "id": "MV6zyvtAo3Dn",
        "colab_type": "code",
        "colab": {}
      },
      "source": [
        "from azureml.core import Workspace\n",
        "from azureml.core.compute import ComputeTarget, DatabricksCompute\n",
        "\n",
        "# Load the workspace from the saved config file\n",
        "ws = Workspace.from_config()\n",
        "\n",
        "# Specify a name for the compute (unique within the workspace)\n",
        "compute_name = 'db_cluster'\n",
        "\n",
        "# Define configuration for existing Azure Databricks cluster\n",
        "db_workspace_name = 'db_workspace'\n",
        "db_resource_group = 'db_resource_group'\n",
        "db_access_token = '1234-abc-5678-defg-90...'\n",
        "db_config = DatabricksCompute.attach_configuration(resource_group=db_resource_group,\n",
        "                                                   workspace_name=db_workspace_name,\n",
        "                                                   access_token=db_access_token)\n",
        "\n",
        "# Create the compute\n",
        "databricks_compute = ComputeTarget.attach(ws, compute_name, db_config)\n",
        "databricks_compute.wait_for_completion(True)"
      ],
      "execution_count": null,
      "outputs": []
    },
    {
      "cell_type": "markdown",
      "metadata": {
        "id": "9ahhZdXxpGLP",
        "colab_type": "text"
      },
      "source": [
        "# Verificando um alvo de computação existente"
      ]
    },
    {
      "cell_type": "code",
      "metadata": {
        "id": "mA64O691pDwV",
        "colab_type": "code",
        "colab": {}
      },
      "source": [
        "from azureml.core.compute import ComputeTarget, AmlCompute\n",
        "from azureml.core.compute_target import ComputeTargetException\n",
        "\n",
        "compute_name = \"aml-cluster\"\n",
        "\n",
        "# Check if the compute target exists\n",
        "try:\n",
        "    aml_cluster = ComputeTarget(workspace=ws, name=compute_name)\n",
        "    print('Found existing cluster.')\n",
        "except ComputeTargetException:\n",
        "    # If not, create it\n",
        "    compute_config = AmlCompute.provisioning_configuration(vm_size='STANDARD_DS12_V2',\n",
        "                                                           max_nodes=4)\n",
        "    aml_cluster = ComputeTarget.create(ws, compute_name, compute_config)\n",
        "\n",
        "aml_cluster.wait_for_completion(show_output=True)"
      ],
      "execution_count": null,
      "outputs": []
    },
    {
      "cell_type": "markdown",
      "metadata": {
        "id": "GEm_G6MCqsbo",
        "colab_type": "text"
      },
      "source": [
        "# Use alvos de computação"
      ]
    },
    {
      "cell_type": "code",
      "metadata": {
        "id": "MFMPb-lsquW7",
        "colab_type": "code",
        "colab": {}
      },
      "source": [
        "from azureml.core import Environment\n",
        "from azureml.train.estimator import Estimator\n",
        "\n",
        "compute_name = 'aml-cluster'\n",
        "\n",
        "training_env = Environment.get(workspace=ws, name='training_environment')\n",
        "\n",
        "estimator = Estimator(source_directory='experiment_folder',\n",
        "                      entry_script='training_script.py',\n",
        "                      environment_definition=training_env,\n",
        "                      compute_target=compute_name)"
      ],
      "execution_count": null,
      "outputs": []
    },
    {
      "cell_type": "markdown",
      "metadata": {
        "id": "fa9W9z5rrcue",
        "colab_type": "text"
      },
      "source": [
        "Quando um experimento para o estimador é enviado, a execução é enfileirada enquanto o destino de computação é iniciado e o ambiente especificado é implantado nele, e então a execução é processada no ambiente de computação.\n",
        "\n",
        "Em vez de especificar o nome do destino de computação, você pode especificar um objeto ComputeTarget , como este:"
      ]
    },
    {
      "cell_type": "code",
      "metadata": {
        "id": "ixhPZPIGrdbV",
        "colab_type": "code",
        "colab": {}
      },
      "source": [
        "from azureml.core import Environment\n",
        "from azureml.train.estimator import Estimator\n",
        "from azureml.core.compute import ComputeTarget\n",
        "\n",
        "compute_name = 'aml-cluster'\n",
        "\n",
        "training_cluster = ComputeTarget(workspace=ws, name=compute_name)\n",
        "\n",
        "training_env = Environment.get(workspace=ws, name='training_environment')\n",
        "\n",
        "estimator = Estimator(source_directory='experiment_folder',\n",
        "                      entry_script='training_script.py',\n",
        "                      environment_definition=training_env,\n",
        "                      compute_target=training_cluster)"
      ],
      "execution_count": null,
      "outputs": []
    }
  ]
}