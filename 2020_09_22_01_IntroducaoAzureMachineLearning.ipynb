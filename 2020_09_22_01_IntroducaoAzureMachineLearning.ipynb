{
  "nbformat": 4,
  "nbformat_minor": 0,
  "metadata": {
    "colab": {
      "name": "2020-09-22-01-IntroducaoAzureMachineLearning.ipynb",
      "provenance": [],
      "authorship_tag": "ABX9TyNKXtDiOEz+hMH5whvNNArz",
      "include_colab_link": true
    },
    "kernelspec": {
      "name": "python3",
      "display_name": "Python 3"
    }
  },
  "cells": [
    {
      "cell_type": "markdown",
      "metadata": {
        "id": "view-in-github",
        "colab_type": "text"
      },
      "source": [
        "<a href=\"https://colab.research.google.com/github/Chikuji/AzureML/blob/master/2020_09_22_01_IntroducaoAzureMachineLearning.ipynb\" target=\"_parent\"><img src=\"https://colab.research.google.com/assets/colab-badge.svg\" alt=\"Open In Colab\"/></a>"
      ]
    },
    {
      "cell_type": "markdown",
      "metadata": {
        "id": "g4VF9_u3uOGe",
        "colab_type": "text"
      },
      "source": [
        "# Objetivos de aprendizagem\n",
        "\n",
        "- Provisionar um workspace do Azure Machine Learning.\n",
        "-Usar ferramentas e interfaces para trabalhar com o Azure Machine Learning.\n",
        "-Executar experimentos baseados em código em um Workspace do Azure Machine Learning."
      ]
    },
    {
      "cell_type": "markdown",
      "metadata": {
        "id": "nKWiqUpvhHRg",
        "colab_type": "text"
      },
      "source": [
        "Como instalar o SDK do Azure Machine Learning para Python"
      ]
    },
    {
      "cell_type": "code",
      "metadata": {
        "id": "Obcj2UxzhIms",
        "colab_type": "code",
        "colab": {}
      },
      "source": [
        "pip install azureml-sdk\n"
      ],
      "execution_count": null,
      "outputs": []
    },
    {
      "cell_type": "markdown",
      "metadata": {
        "id": "J3Uaj6J0hSQy",
        "colab_type": "text"
      },
      "source": [
        " Para instalar os extras, especifique-os entre colchetes, conforme mostrado aqui:"
      ]
    },
    {
      "cell_type": "code",
      "metadata": {
        "id": "BhTK4oNyhS97",
        "colab_type": "code",
        "colab": {}
      },
      "source": [
        "pip install azureml-sdk[notebooks,automl,explain]"
      ],
      "execution_count": null,
      "outputs": []
    },
    {
      "cell_type": "markdown",
      "metadata": {
        "id": "uj991--Hhd8S",
        "colab_type": "text"
      },
      "source": [
        "Como se conectar a um workspace"
      ]
    },
    {
      "cell_type": "code",
      "metadata": {
        "id": "a63rh7eyhajF",
        "colab_type": "code",
        "colab": {}
      },
      "source": [
        "{\n",
        "    \"subscription_id\": \"1234567-abcde-890-fgh...\",\n",
        "    \"resource_group\": \"aml-resources\",\n",
        "    \"workspace_name\": \"aml-workspace\"\n",
        "}"
      ],
      "execution_count": null,
      "outputs": []
    },
    {
      "cell_type": "markdown",
      "metadata": {
        "id": "DDJyvGoNhnYz",
        "colab_type": "text"
      },
      "source": [
        "Para se conectar ao workspace usando o arquivo de configuração, use o método from_config da classe Workspace no SDK, conforme mostrado aqui:"
      ]
    },
    {
      "cell_type": "code",
      "metadata": {
        "id": "s7R67oRGhoN7",
        "colab_type": "code",
        "colab": {}
      },
      "source": [
        "from azureml.core import Workspace\n",
        "\n",
        "ws = Workspace.from_config()"
      ],
      "execution_count": null,
      "outputs": []
    },
    {
      "cell_type": "code",
      "metadata": {
        "id": "kxCZXBR8jopI",
        "colab_type": "code",
        "colab": {}
      },
      "source": [
        "from azureml.core import Workspace\n",
        "\n",
        "ws = Workspace.get(name='aml-workspace',\n",
        "                   subscription_id='1234567-abcde-890-fgh...',\n",
        "                   resource_group='aml-resources')"
      ],
      "execution_count": null,
      "outputs": []
    },
    {
      "cell_type": "code",
      "metadata": {
        "id": "V7sAPwy8j01A",
        "colab_type": "code",
        "colab": {}
      },
      "source": [
        "for compute_name in ws.compute_targets:\n",
        "    compute = ws.compute_targets[compute_name]\n",
        "    print(compute.name, \":\", compute.type)"
      ],
      "execution_count": null,
      "outputs": []
    },
    {
      "cell_type": "markdown",
      "metadata": {
        "id": "16ykdWUnj4e4",
        "colab_type": "text"
      },
      "source": [
        "A extensão da CLI do Azure Machine Learning"
      ]
    },
    {
      "cell_type": "code",
      "metadata": {
        "id": "zKbZtRXvj8CK",
        "colab_type": "code",
        "colab": {}
      },
      "source": [
        "az extension add -n azure-cli-ml"
      ],
      "execution_count": null,
      "outputs": []
    },
    {
      "cell_type": "code",
      "metadata": {
        "id": "SANTNWA5kArm",
        "colab_type": "code",
        "colab": {}
      },
      "source": [
        "az ml computetarget list -g 'aml-resources' -w 'aml-workspace'"
      ],
      "execution_count": null,
      "outputs": []
    },
    {
      "cell_type": "markdown",
      "metadata": {
        "id": "-lj_0pKwk4uu",
        "colab_type": "text"
      },
      "source": [
        "# O contexto de execução do experimento"
      ]
    },
    {
      "cell_type": "code",
      "metadata": {
        "id": "bhMyvl7sk5cf",
        "colab_type": "code",
        "colab": {}
      },
      "source": [
        "from azureml.core import Experiment\n",
        "\n",
        "# create an experiment variable\n",
        "experiment = Experiment(workspace = ws, name = \"my-experiment\")\n",
        "\n",
        "# start the experiment\n",
        "run = experiment.start_logging()\n",
        "\n",
        "# experiment code goes here\n",
        "\n",
        "# end the experiment\n",
        "run.complete()"
      ],
      "execution_count": null,
      "outputs": []
    },
    {
      "cell_type": "markdown",
      "metadata": {
        "id": "RWT-0z6hlOoo",
        "colab_type": "text"
      },
      "source": [
        "Como registrar métricas em log\n",
        "\n",
        "\n",
        "- log: registre um só valor nomeado.\n",
        "-log_list: registre uma lista nomeada de valores.\n",
        "-log_row: registre uma linha com várias colunas.\n",
        "-log_table: registre um dicionário como uma tabela.\n",
        "-log_image: registre um arquivo de imagem ou um gráfico."
      ]
    },
    {
      "cell_type": "markdown",
      "metadata": {
        "id": "QEJwt63JlaTV",
        "colab_type": "text"
      },
      "source": [
        "Por exemplo, o seguinte código registra o número de observações (registros) em um arquivo CSV:"
      ]
    },
    {
      "cell_type": "code",
      "metadata": {
        "id": "tzzd0IYalVWk",
        "colab_type": "code",
        "colab": {}
      },
      "source": [
        "from azureml.core import Experiment\n",
        "import pandas as pd\n",
        "\n",
        "# Create an Azure ML experiment in your workspace\n",
        "experiment = Experiment(workspace = ws, name = 'my-experiment')\n",
        "\n",
        "# Start logging data from the experiment\n",
        "run = experiment.start_logging()\n",
        "\n",
        "# load the dataset and count the rows\n",
        "data = pd.read_csv('data.csv')\n",
        "row_count = (len(data))\n",
        "\n",
        "# Log the row count\n",
        "run.log('observations', row_count)\n",
        "\n",
        "# Complete the experiment\n",
        "run.complete()"
      ],
      "execution_count": null,
      "outputs": []
    },
    {
      "cell_type": "markdown",
      "metadata": {
        "id": "ZCHB7mEjllPZ",
        "colab_type": "text"
      },
      "source": [
        "Como recuperar e exibir métricas registradas em log"
      ]
    },
    {
      "cell_type": "code",
      "metadata": {
        "id": "xhfiLp2Elmch",
        "colab_type": "code",
        "colab": {}
      },
      "source": [
        "from azureml.widgets import RunDetails\n",
        "\n",
        "RunDetails(run).show()"
      ],
      "execution_count": null,
      "outputs": []
    },
    {
      "cell_type": "markdown",
      "metadata": {
        "id": "j7FJH89TlpK9",
        "colab_type": "text"
      },
      "source": [
        "Recupere também as métricas usando o método get_metrics do objeto Run"
      ]
    },
    {
      "cell_type": "code",
      "metadata": {
        "id": "ykrBoB3glrPw",
        "colab_type": "code",
        "colab": {}
      },
      "source": [
        "import json\n",
        "\n",
        "# Get logged metrics\n",
        "metrics = run.get_metrics()\n",
        "print(json.dumps(metrics, indent=2))"
      ],
      "execution_count": null,
      "outputs": []
    },
    {
      "cell_type": "markdown",
      "metadata": {
        "id": "JA9JjYrbludp",
        "colab_type": "text"
      },
      "source": [
        "O código anterior produz uma saída semelhante a esta:"
      ]
    },
    {
      "cell_type": "code",
      "metadata": {
        "id": "qqCW8N2_lv4q",
        "colab_type": "code",
        "colab": {}
      },
      "source": [
        "{\n",
        "  \"observations\": 15000\n",
        "}"
      ],
      "execution_count": null,
      "outputs": []
    },
    {
      "cell_type": "markdown",
      "metadata": {
        "id": "qse5FSpyl-3X",
        "colab_type": "text"
      },
      "source": [
        "Arquivos de saída do experimento"
      ]
    },
    {
      "cell_type": "code",
      "metadata": {
        "id": "ur7Lgg0XmC12",
        "colab_type": "code",
        "colab": {}
      },
      "source": [
        "run.upload_file(name='outputs/sample.csv', path_or_stream='./sample.csv')"
      ],
      "execution_count": null,
      "outputs": []
    },
    {
      "cell_type": "markdown",
      "metadata": {
        "id": "KNAKSAlMmOgl",
        "colab_type": "text"
      },
      "source": [
        "recuperar uma lista de arquivos de saída do objeto Run"
      ]
    },
    {
      "cell_type": "code",
      "metadata": {
        "id": "73BnkO7AmQEI",
        "colab_type": "code",
        "colab": {}
      },
      "source": [
        "import json\n",
        "\n",
        "files = run.get_file_names()\n",
        "print(json.dumps(files, indent=2))"
      ],
      "execution_count": null,
      "outputs": []
    },
    {
      "cell_type": "markdown",
      "metadata": {
        "id": "Trd6xfA7mRqt",
        "colab_type": "text"
      },
      "source": [
        " código anterior produz uma saída semelhante a esta:"
      ]
    },
    {
      "cell_type": "code",
      "metadata": {
        "id": "XqudTeA6mS_o",
        "colab_type": "code",
        "colab": {}
      },
      "source": [
        "[\n",
        "  \"outputs/sample.csv\"\n",
        "]"
      ],
      "execution_count": null,
      "outputs": []
    },
    {
      "cell_type": "markdown",
      "metadata": {
        "id": "TyV5I9oBnBux",
        "colab_type": "text"
      },
      "source": [
        "# Como executar um script como um experimento"
      ]
    },
    {
      "cell_type": "markdown",
      "metadata": {
        "id": "JfVhoqVGnZy-",
        "colab_type": "text"
      },
      "source": [
        "Um script de experimento é apenas um arquivo de código Python que contém o código que você deseja executar no experimento. Para acessar o contexto de execução do experimento (que é necessário para o log de métricas), o script precisará importar a classe azureml.core.Run e chamar o método get_context. O script poderá, então, usar o contexto de execução para registrar métricas em log, carregar arquivos e concluir o experimento, conforme mostrado aqui:"
      ]
    },
    {
      "cell_type": "code",
      "metadata": {
        "id": "pmaMvWI7nEN2",
        "colab_type": "code",
        "colab": {}
      },
      "source": [
        "from azureml.core import Run\n",
        "import pandas as pd\n",
        "import matplotlib.pyplot as plt\n",
        "import os\n",
        "\n",
        "# Get the experiment run context\n",
        "run = Run.get_context()\n",
        "\n",
        "# load the diabetes dataset\n",
        "data = pd.read_csv('data.csv')\n",
        "\n",
        "# Count the rows and log the result\n",
        "row_count = (len(data))\n",
        "run.log('observations', row_count)\n",
        "\n",
        "# Save a sample of the data\n",
        "os.makedirs('outputs', exist_ok=True)\n",
        "data.sample(100).to_csv(\"outputs/sample.csv\", index=False, header=True)\n",
        "\n",
        "# Complete the run\n",
        "run.complete()"
      ],
      "execution_count": null,
      "outputs": []
    },
    {
      "cell_type": "markdown",
      "metadata": {
        "id": "pXr8tj9pndTw",
        "colab_type": "text"
      },
      "source": [
        "Para executar um script como um experimento"
      ]
    },
    {
      "cell_type": "markdown",
      "metadata": {
        "id": "f4HCDlxtnkOq",
        "colab_type": "text"
      },
      "source": [
        "você precisará definir uma configuração de execução que define o ambiente do Python no qual o script será executado e uma configuração de execução de script que associa o ambiente de execução ao script. Elas são implementadas com os objetos RunConfiguration e ScriptRunConfig."
      ]
    },
    {
      "cell_type": "code",
      "metadata": {
        "id": "jHCPEvWVnfjL",
        "colab_type": "code",
        "colab": {}
      },
      "source": [
        "from azureml.core import Experiment, RunConfiguration, ScriptRunConfig\n",
        "\n",
        "# create a new RunConfig object\n",
        "experiment_run_config = RunConfiguration()\n",
        "\n",
        "# Create a script config\n",
        "script_config = ScriptRunConfig(source_directory=experiment_folder, \n",
        "                      script='experiment.py',\n",
        "                      run_config=experiment_run_config) \n",
        "\n",
        "# submit the experiment\n",
        "experiment = Experiment(workspace = ws, name = 'my-experiment')\n",
        "run = experiment.submit(config=script_config)\n",
        "run.wait_for_completion(show_output=True)"
      ],
      "execution_count": null,
      "outputs": []
    },
    {
      "cell_type": "markdown",
      "metadata": {
        "id": "j73vHKK2n157",
        "colab_type": "text"
      },
      "source": [
        "# Exercício: introdução ao Azure Machine Learning"
      ]
    },
    {
      "cell_type": "markdown",
      "metadata": {
        "id": "CjNxqBUnn0Zs",
        "colab_type": "text"
      },
      "source": [
        "Siga estas instruções para concluir o exercício.\n",
        "\n",
        "Caso ainda não tenha uma assinatura do Azure, inscreva-se para obter uma avaliação gratuita em https://azure.microsoft.com.\n",
        "Abra o repositório do laboratório no GitHub em https://aka.ms/mslearn-aml-labs.\n",
        "Conclua as etapas do laboratório Introdução ao Azure Machine Learning."
      ]
    }
  ]
}